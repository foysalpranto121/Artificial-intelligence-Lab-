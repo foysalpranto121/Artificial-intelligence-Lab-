{
 "cells": [
  {
   "cell_type": "markdown",
   "id": "09bc0873",
   "metadata": {},
   "source": [
    "## LAB day 02 ( ALL tasks)"
   ]
  },
  {
   "cell_type": "markdown",
   "id": "4f0e8ba5",
   "metadata": {},
   "source": [
    "# task 01 -- Multiple Inheritance "
   ]
  },
  {
   "cell_type": "code",
   "execution_count": 1,
   "id": "6b174cf3",
   "metadata": {},
   "outputs": [
    {
     "name": "stdout",
     "output_type": "stream",
     "text": [
      "Father can drive a car\n",
      "Mother can cook food\n",
      "Child loves to play football\n"
     ]
    }
   ],
   "source": [
    "class Father:\n",
    "    def driving(self):\n",
    "        print(\"Father can drive a car\")\n",
    "\n",
    "class Mother:\n",
    "    def cooking(self):\n",
    "        print(\"Mother can cook food\")\n",
    "\n",
    "class Child(Father, Mother):\n",
    "    def playing(self):\n",
    "        print(\"Child loves to play football\")\n",
    "\n",
    "# Create object ( child)\n",
    "c = Child()\n",
    "\n",
    "# acess methods\n",
    "c.driving()\n",
    "c.cooking()\n",
    "c.playing()\n"
   ]
  }
 ],
 "metadata": {
  "kernelspec": {
   "display_name": "Python 3",
   "language": "python",
   "name": "python3"
  },
  "language_info": {
   "codemirror_mode": {
    "name": "ipython",
    "version": 3
   },
   "file_extension": ".py",
   "mimetype": "text/x-python",
   "name": "python",
   "nbconvert_exporter": "python",
   "pygments_lexer": "ipython3",
   "version": "3.13.8"
  }
 },
 "nbformat": 4,
 "nbformat_minor": 5
}
