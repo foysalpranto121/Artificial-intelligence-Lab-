{
 "cells": [
  {
   "cell_type": "markdown",
   "id": "09bc0873",
   "metadata": {},
   "source": [
    "## LAB day 02 ( ALL tasks)"
   ]
  },
  {
   "cell_type": "markdown",
   "id": "4f0e8ba5",
   "metadata": {},
   "source": [
    "# task 01 -- Multiple Inheritance "
   ]
  },
  {
   "cell_type": "code",
   "execution_count": null,
   "id": "6b174cf3",
   "metadata": {},
   "outputs": [
    {
     "name": "stdout",
     "output_type": "stream",
     "text": [
      "Father can drive a car\n",
      "Mother can cook food\n",
      "Child loves to play football\n"
     ]
    }
   ],
   "source": [
    "class Father:\n",
    "    def driving(self):\n",
    "        print(\"Father can drive a car\")\n",
    "\n",
    "class Mother:\n",
    "    def cooking(self):\n",
    "        print(\"Mother can cook food\")\n",
    "\n",
    "class Child(Father, Mother):\n",
    "    def playing(self):\n",
    "        print(\"Child loves to play football\")\n",
    "\n",
    "# Create object ( child)\n",
    "c = Child()\n",
    "\n",
    "# acess methods\n",
    "c.driving()\n",
    "c.cooking()\n",
    "c.playing()\n",
    "\n",
    "\n"
   ]
  },
  {
   "cell_type": "markdown",
   "id": "ffa465b3",
   "metadata": {},
   "source": [
    "## Task 2:\n",
    "Create a parent class Person and child class Student. Add methods for showing info."
   ]
  },
  {
   "cell_type": "code",
   "execution_count": 2,
   "id": "b7a6b474",
   "metadata": {},
   "outputs": [
    {
     "name": "stdout",
     "output_type": "stream",
     "text": [
      "Name: Ahmed Foysal\n",
      "Age: 21\n",
      "Student ID: S1234\n",
      "Course: Software Engineering\n"
     ]
    }
   ],
   "source": [
    "## parent \n",
    "class Person:\n",
    "    def __init__(self, name, age):\n",
    "        self.name = name\n",
    "        self.age = age\n",
    "\n",
    "    def show_info(self):\n",
    "        print(f\"Name: {self.name}\")\n",
    "        print(f\"Age: {self.age}\")\n",
    "\n",
    "\n",
    "### Child \n",
    "class Student(Person):\n",
    "    def __init__(self, name, age, student_id, course):\n",
    "        # Call the constructor of the parent class\n",
    "        super().__init__(name, age)\n",
    "        self.student_id = student_id\n",
    "        self.course = course\n",
    "\n",
    "    def show_info(self):\n",
    "        # Call paren\n",
    "        super().show_info()\n",
    "        print(f\"Student ID: {self.student_id}\")\n",
    "        print(f\"Course: {self.course}\")\n",
    "\n",
    "\n",
    "\n",
    "s1 = Student(\"Ahmed Foysal\", 21, \"S1234\", \"Software Engineering\")\n",
    "s1.show_info()\n"
   ]
  },
  {
   "cell_type": "markdown",
   "id": "cc3b1c4d",
   "metadata": {},
   "source": [
    "## Task 3:\n",
    "Implement polymorphism for a draw() method in classes Circle, Square, and Triangle."
   ]
  },
  {
   "cell_type": "code",
   "execution_count": 3,
   "id": "2190f061",
   "metadata": {},
   "outputs": [
    {
     "name": "stdout",
     "output_type": "stream",
     "text": [
      "Drawing a Circle\n",
      "Drawing a Square\n",
      "Drawing a Triangle\n"
     ]
    }
   ],
   "source": [
    "###### Parent \n",
    "class Shape:\n",
    "    def draw(self):\n",
    "        # This will be overridden by child classes\n",
    "        print(\"Drawing a shape...\")\n",
    "\n",
    "\n",
    "#### Child C1\n",
    "class Circle(Shape):\n",
    "    def draw(self):\n",
    "        print(\"Drawing a Circle\")\n",
    "\n",
    "\n",
    "####Child cl2\n",
    "class Square(Shape):\n",
    "    def draw(self):\n",
    "        print(\"Drawing a Square\")\n",
    "\n",
    "\n",
    "#### Child cl 3\n",
    "class Triangle(Shape):\n",
    "    def draw(self):\n",
    "        print(\"Drawing a Triangle\")\n",
    "\n",
    "\n",
    "\n",
    "shapes = [Circle(), Square(), Triangle()]\n",
    "\n",
    "for shape in shapes:\n",
    "    shape.draw()  "
   ]
  },
  {
   "cell_type": "markdown",
   "id": "d95db6e8",
   "metadata": {},
   "source": [
    "## Task 4:\n",
    "Create an abstract class Appliance with an abstract method turn_on(). Implement it in\n",
    "subclasses Fan and Light."
   ]
  },
  {
   "cell_type": "code",
   "execution_count": 4,
   "id": "f126e130",
   "metadata": {},
   "outputs": [
    {
     "name": "stdout",
     "output_type": "stream",
     "text": [
      "Fan is now ON!\n",
      "Light is now ON!\n"
     ]
    }
   ],
   "source": [
    "# Parent\n",
    "class Appliance:\n",
    "    def turn_on(self):\n",
    "        # This method will be redefined in child classes\n",
    "        pass\n",
    "\n",
    "\n",
    "# Child class 1\n",
    "class Fan(Appliance):\n",
    "    def turn_on(self):\n",
    "        print(\"Fan is now ON!\")\n",
    "\n",
    "\n",
    "# Child class 2\n",
    "class Light(Appliance):\n",
    "    def turn_on(self):\n",
    "        print(\"Light is now ON!\")\n",
    "\n",
    "\n",
    "\n",
    "fan = Fan()\n",
    "light = Light()\n",
    "\n",
    "fan.turn_on()\n",
    "light.turn_on()\n"
   ]
  }
 ],
 "metadata": {
  "kernelspec": {
   "display_name": "Python 3",
   "language": "python",
   "name": "python3"
  },
  "language_info": {
   "codemirror_mode": {
    "name": "ipython",
    "version": 3
   },
   "file_extension": ".py",
   "mimetype": "text/x-python",
   "name": "python",
   "nbconvert_exporter": "python",
   "pygments_lexer": "ipython3",
   "version": "3.13.8"
  }
 },
 "nbformat": 4,
 "nbformat_minor": 5
}
