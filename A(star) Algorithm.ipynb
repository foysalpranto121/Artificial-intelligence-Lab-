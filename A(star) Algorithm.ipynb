{
 "cells": [
  {
   "cell_type": "markdown",
   "id": "43945df1",
   "metadata": {},
   "source": [
    "# A* Algorithm"
   ]
  },
  {
   "cell_type": "code",
   "execution_count": 1,
   "id": "91c63056",
   "metadata": {},
   "outputs": [],
   "source": [
    "from heapq import heappop, heappush\n",
    "\n",
    "# Define A* Search\n",
    "def astar_search(start, goal, grid):\n",
    "    rows, cols = len(grid), len(grid[0])\n",
    "    \n",
    "    def heuristic(a, b):\n",
    "        # Manhattan distance\n",
    "        return abs(a[0] - b[0]) + abs(a[1] - b[1])\n",
    "    \n",
    "    open_list = []\n",
    "    heappush(open_list, (0 + heuristic(start, goal), 0, start, [start]))  # (f, g, node, path)\n",
    "    visited = set()\n",
    "\n",
    "    while open_list:\n",
    "        f, g, current, path = heappop(open_list)\n",
    "        if current == goal:\n",
    "            return path\n",
    "        \n",
    "        if current in visited:\n",
    "            continue\n",
    "        visited.add(current)\n",
    "        \n",
    "        x, y = current\n",
    "        for dx, dy in [(1,0), (-1,0), (0,1), (0,-1)]:  # 4 directions\n",
    "            nx, ny = x + dx, y + dy\n",
    "            if 0 <= nx < rows and 0 <= ny < cols and grid[nx][ny] == 0:\n",
    "                neighbor = (nx, ny)\n",
    "                heappush(open_list, (g + 1 + heuristic(neighbor, goal), g + 1, neighbor, path + [neighbor]))\n",
    "    \n",
    "    return None\n"
   ]
  },
  {
   "cell_type": "code",
   "execution_count": 3,
   "id": "000632bd",
   "metadata": {},
   "outputs": [
    {
     "name": "stdout",
     "output_type": "stream",
     "text": [
      "Shortest Path Found: [(0, 0), (0, 1), (0, 2), (0, 3), (0, 4), (1, 4), (2, 4), (3, 4), (4, 4)]\n"
     ]
    }
   ],
   "source": [
    "# 0 = free cell, 1 = obstacle\n",
    "grid = [\n",
    "    [0, 0, 0, 0, 0],\n",
    "    [0, 1, 1, 0, 0],\n",
    "    [0, 0, 0, 0, 0],\n",
    "    [0, 0, 1, 1, 0],\n",
    "    [0, 0, 0, 0, 0]\n",
    "]\n",
    "\n",
    "start = (0, 0)\n",
    "goal = (4, 4)\n",
    "\n",
    "path = astar_search(start, goal, grid)\n",
    "print(\"Shortest Path Found:\", path)\n"
   ]
  }
 ],
 "metadata": {
  "kernelspec": {
   "display_name": "Python 3",
   "language": "python",
   "name": "python3"
  },
  "language_info": {
   "codemirror_mode": {
    "name": "ipython",
    "version": 3
   },
   "file_extension": ".py",
   "mimetype": "text/x-python",
   "name": "python",
   "nbconvert_exporter": "python",
   "pygments_lexer": "ipython3",
   "version": "3.13.9"
  }
 },
 "nbformat": 4,
 "nbformat_minor": 5
}
