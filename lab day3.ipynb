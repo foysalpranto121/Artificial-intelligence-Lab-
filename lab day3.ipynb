{
 "cells": [
  {
   "cell_type": "markdown",
   "id": "ff2b9020",
   "metadata": {},
   "source": [
    "## Searching Algorithm"
   ]
  },
  {
   "cell_type": "code",
   "execution_count": 1,
   "id": "28e47807",
   "metadata": {},
   "outputs": [],
   "source": [
    "# --- GRAPH SETUP ---\n",
    "graph_unweighted = {\n",
    "    'A': ['B', 'C'],\n",
    "    'B': ['D', 'E'],\n",
    "    'C': ['F'],\n",
    "    'D': [],\n",
    "    'E': ['F'],\n",
    "    'F': []\n",
    "}\n",
    "\n",
    "\n",
    "graph_weighted = {\n",
    "    'A': [('B', 1), ('C', 3)],\n",
    "    'B': [('D', 1), ('E', 5)],\n",
    "    'C': [('F', 4)],\n",
    "    'D': [],\n",
    "    'E': [('F', 2)],\n",
    "    'F': []\n",
    "}\n",
    "\n",
    "\n",
    "heuristics = {\n",
    "    'A': 6,\n",
    "    'B': 4,\n",
    "    'C': 5,\n",
    "    'D': 3,\n",
    "    'E': 2,\n",
    "    'F': 0\n",
    "}\n"
   ]
  },
  {
   "cell_type": "markdown",
   "id": "97b8533a",
   "metadata": {},
   "source": [
    "## Breadth First Search (BFS)\n"
   ]
  },
  {
   "cell_type": "code",
   "execution_count": 2,
   "id": "e41aa403",
   "metadata": {},
   "outputs": [
    {
     "name": "stdout",
     "output_type": "stream",
     "text": [
      "Breadth-First Search Path: ['A', 'C', 'F']\n"
     ]
    }
   ],
   "source": [
    "from collections import deque\n",
    "\n",
    "\n",
    "def bfs(start, goal, graph):\n",
    "    visited = set()\n",
    "    queue = deque([[start]])\n",
    "\n",
    "\n",
    "    while queue:\n",
    "        path = queue.popleft()\n",
    "        node = path[-1]\n",
    "        if node == goal:\n",
    "            return path\n",
    "        if node not in visited:\n",
    "            visited.add(node)\n",
    "            for neighbor in graph.get(node, []):\n",
    "                new_path = list(path)\n",
    "                new_path.append(neighbor)\n",
    "                queue.append(new_path)\n",
    "    return None\n",
    "start_node = 'A'\n",
    "goal_node = 'F'\n",
    "\n",
    "\n",
    "print(\"Breadth-First Search Path:\", bfs(start_node, goal_node, graph_unweighted))\n",
    "#print(\"Depth-First Search Path:\", dfs(start_node, goal_node, graph_unweighted))\n"
   ]
  },
  {
   "cell_type": "markdown",
   "id": "850234f9",
   "metadata": {},
   "source": [
    "## Depth First Search (DFS)"
   ]
  },
  {
   "cell_type": "code",
   "execution_count": 4,
   "id": "a7dc7dcb",
   "metadata": {},
   "outputs": [
    {
     "name": "stdout",
     "output_type": "stream",
     "text": [
      "Depth-First Search Path: ['A', 'B', 'E', 'F']\n"
     ]
    }
   ],
   "source": [
    "def dfs(start, goal, graph):\n",
    "    visited = set()\n",
    "    stack = [[start]]\n",
    "\n",
    "\n",
    "    while stack:\n",
    "        path = stack.pop()\n",
    "        node = path[-1]\n",
    "        if node == goal:\n",
    "            return path\n",
    "        if node not in visited:\n",
    "            visited.add(node)\n",
    "            for neighbor in reversed(graph.get(node, [])):\n",
    "                new_path = list(path)\n",
    "                new_path.append(neighbor)\n",
    "                stack.append(new_path)\n",
    "    return None\n",
    "\n",
    "start_node = 'A'\n",
    "goal_node = 'F'\n",
    "\n",
    "\n",
    "#print(\"Breadth-First Search Path:\", bfs(start_node, goal_node, graph_unweighted))\n",
    "print(\"Depth-First Search Path:\", dfs(start_node, goal_node, graph_unweighted))\n",
    "\n"
   ]
  }
 ],
 "metadata": {
  "kernelspec": {
   "display_name": "Python 3",
   "language": "python",
   "name": "python3"
  },
  "language_info": {
   "codemirror_mode": {
    "name": "ipython",
    "version": 3
   },
   "file_extension": ".py",
   "mimetype": "text/x-python",
   "name": "python",
   "nbconvert_exporter": "python",
   "pygments_lexer": "ipython3",
   "version": "3.13.9"
  }
 },
 "nbformat": 4,
 "nbformat_minor": 5
}
