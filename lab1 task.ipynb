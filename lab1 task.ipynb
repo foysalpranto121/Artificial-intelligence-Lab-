{
 "cells": [
  {
   "cell_type": "markdown",
   "id": "1762cb88",
   "metadata": {},
   "source": [
    "# Fibonacci code"
   ]
  },
  {
   "cell_type": "code",
   "execution_count": null,
   "id": "178dce06",
   "metadata": {},
   "outputs": [
    {
     "name": "stdout",
     "output_type": "stream",
     "text": [
      "0\n",
      "1\n",
      "1\n",
      "2\n",
      "3\n",
      "5\n",
      "8\n",
      "13\n",
      "21\n",
      "34\n"
     ]
    }
   ],
   "source": [
    "def fibonacci(n):\n",
    "    a, b = 0, 1\n",
    "    for i in range(n):\n",
    "        print(a)\n",
    "        a, b = b, a + b\n",
    "\n",
    "fibonacci(10)  \n"
   ]
  },
  {
   "cell_type": "markdown",
   "id": "a26718fb",
   "metadata": {},
   "source": [
    "# find out if a year is a leap yea"
   ]
  },
  {
   "cell_type": "code",
   "execution_count": 2,
   "id": "94a85dda",
   "metadata": {},
   "outputs": [
    {
     "name": "stdout",
     "output_type": "stream",
     "text": [
      "2025 is not a leap year.\n"
     ]
    }
   ],
   "source": [
    "year = int(input(\"Enter a year: \"))\n",
    "\n",
    "\n",
    "if (year % 400 == 0):\n",
    "    print(year, \"is a leap year.\")\n",
    "elif (year % 100 == 0):\n",
    "    print(year, \"is not a leap year.\")\n",
    "elif (year % 4 == 0):\n",
    "    print(year, \"is a leap year.\")\n",
    "else:\n",
    "    print(year, \"is not a leap year.\")\n"
   ]
  },
  {
   "cell_type": "markdown",
   "id": "3c14650b",
   "metadata": {},
   "source": [
    "# Find smalles and Largest number between three numbers\n"
   ]
  },
  {
   "cell_type": "code",
   "execution_count": 3,
   "id": "6ab3595c",
   "metadata": {},
   "outputs": [
    {
     "name": "stdout",
     "output_type": "stream",
     "text": [
      "Largest number : 67\n",
      "Smallest number : 22\n"
     ]
    }
   ],
   "source": [
    "# take input 3 numbers\n",
    "a = int(input(\"Enter first number: \"))\n",
    "b = int(input(\"Enter second number: \"))\n",
    "c = int(input(\"Enter third number: \"))\n",
    "\n",
    "# check and find out largest one\n",
    "if (a >= b) and (a >= c):\n",
    "    largest = a\n",
    "elif (b >= a) and (b >= c):\n",
    "    largest = b\n",
    "else:\n",
    "    largest = c\n",
    "\n",
    "# check and find smallest one\n",
    "if (a <= b) and (a <= c):\n",
    "    smallest = a\n",
    "elif (b <= a) and (b <= c):\n",
    "    smallest = b\n",
    "else:\n",
    "    smallest = c\n",
    "\n",
    "print(\"Largest number :\", largest)\n",
    "print(\"Smallest number :\", smallest)\n"
   ]
  }
 ],
 "metadata": {
  "kernelspec": {
   "display_name": "Python 3",
   "language": "python",
   "name": "python3"
  },
  "language_info": {
   "codemirror_mode": {
    "name": "ipython",
    "version": 3
   },
   "file_extension": ".py",
   "mimetype": "text/x-python",
   "name": "python",
   "nbconvert_exporter": "python",
   "pygments_lexer": "ipython3",
   "version": "3.13.8"
  }
 },
 "nbformat": 4,
 "nbformat_minor": 5
}
