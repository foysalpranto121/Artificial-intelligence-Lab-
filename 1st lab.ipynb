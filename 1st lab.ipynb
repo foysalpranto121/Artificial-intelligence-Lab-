{
 "cells": [
  {
   "cell_type": "markdown",
   "id": "44ba7358",
   "metadata": {},
   "source": [
    "# LAB Class 01"
   ]
  },
  {
   "cell_type": "markdown",
   "id": "2a4df8f4",
   "metadata": {},
   "source": [
    "Printing First Code "
   ]
  },
  {
   "cell_type": "code",
   "execution_count": 1,
   "id": "a1652090",
   "metadata": {},
   "outputs": [
    {
     "name": "stdout",
     "output_type": "stream",
     "text": [
      "Hello, world!\n"
     ]
    }
   ],
   "source": [
    "\n",
    "print(\"Hello, world!\")\n"
   ]
  },
  {
   "cell_type": "markdown",
   "id": "45328951",
   "metadata": {},
   "source": [
    "Variables & types\n"
   ]
  },
  {
   "cell_type": "code",
   "execution_count": null,
   "id": "ab7b7331",
   "metadata": {},
   "outputs": [
    {
     "name": "stdout",
     "output_type": "stream",
     "text": [
      "<class 'int'> <class 'float'> <class 'str'> <class 'bool'>\n",
      "Foysal is 10 years old? True\n"
     ]
    }
   ],
   "source": [
    "x = 10             # int\n",
    "y = 3.5            # float\n",
    "name = \"Foysal\"    # str\n",
    "is_student = True  # bool\n",
    "print(type(x), type(y), type(name), type(is_student))\n",
    "# f-string\n",
    "print(f\"{name} is {x} years old? {is_student}\")\n"
   ]
  },
  {
   "cell_type": "markdown",
   "id": "32ab65cf",
   "metadata": {},
   "source": [
    "Operators "
   ]
  },
  {
   "cell_type": "code",
   "execution_count": 3,
   "id": "17a2036a",
   "metadata": {},
   "outputs": [
    {
     "name": "stdout",
     "output_type": "stream",
     "text": [
      "13\n",
      "7\n",
      "30\n",
      "3.3333333333333335\n",
      "3\n",
      "1\n",
      "1000\n"
     ]
    }
   ],
   "source": [
    "a = 10\n",
    "b = 3\n",
    "print(a + b)\n",
    "print(a - b)\n",
    "print(a * b)\n",
    "print(a / b)\n",
    "print(a // b)\n",
    "print(a % b)\n",
    "print(a ** b)\n"
   ]
  },
  {
   "cell_type": "markdown",
   "id": "3bceb0f4",
   "metadata": {},
   "source": [
    "Control Flow ( If else and Loop \n",
    ")"
   ]
  },
  {
   "cell_type": "code",
   "execution_count": 4,
   "id": "e8421f8c",
   "metadata": {},
   "outputs": [
    {
     "name": "stdout",
     "output_type": "stream",
     "text": [
      "even\n",
      "0\n",
      "1\n",
      "2\n",
      "3\n",
      "4\n",
      "0\n",
      "1\n",
      "2\n"
     ]
    }
   ],
   "source": [
    "# if / elif / else\n",
    "n = 10\n",
    "if n % 2 == 0:\n",
    "    print(\"even\")\n",
    "else:\n",
    "    print(\"odd\")\n",
    "\n",
    "# for loop\n",
    "for i in range(5):      \n",
    "    print(i)\n",
    "\n",
    "# while loop\n",
    "i = 0\n",
    "while i < 3:\n",
    "    print(i)\n",
    "    i += 1\n"
   ]
  },
  {
   "cell_type": "markdown",
   "id": "355d0064",
   "metadata": {},
   "source": [
    "Functions"
   ]
  },
  {
   "cell_type": "code",
   "execution_count": 5,
   "id": "066a2903",
   "metadata": {},
   "outputs": [
    {
     "name": "stdout",
     "output_type": "stream",
     "text": [
      "Hello, Foysal\n"
     ]
    }
   ],
   "source": [
    "def greet(name=\"Friend\"):\n",
    "    \n",
    "    return f\"Hello, {name}\"\n",
    "\n",
    "print(greet(\"Foysal\"))"
   ]
  },
  {
   "cell_type": "markdown",
   "id": "c1c69f95",
   "metadata": {},
   "source": [
    "## Basic Calculator Make "
   ]
  },
  {
   "cell_type": "markdown",
   "id": "ba9995a2",
   "metadata": {},
   "source": [
    "Define the functions for each operation"
   ]
  },
  {
   "cell_type": "code",
   "execution_count": 6,
   "id": "5336d191",
   "metadata": {},
   "outputs": [],
   "source": [
    "def add(a, b):\n",
    "    return a + b\n",
    "\n",
    "def subtract(a, b):\n",
    "    return a - b\n",
    "\n",
    "def multiply(a, b):\n",
    "    return a * b\n",
    "\n",
    "def divide(a, b):\n",
    "    if b != 0:\n",
    "        return a / b\n",
    "    else:\n",
    "        return \"Error! Division by zero.\"\n"
   ]
  },
  {
   "cell_type": "markdown",
   "id": "aeac61a0",
   "metadata": {},
   "source": [
    "Display menu for user"
   ]
  },
  {
   "cell_type": "code",
   "execution_count": 7,
   "id": "65ad0ee6",
   "metadata": {},
   "outputs": [],
   "source": [
    "def show_menu():\n",
    "    print(\"Select Operation:\")\n",
    "    print(\"1. Add\")\n",
    "    print(\"2. Subtract\")\n",
    "    print(\"3. Multiply\")\n",
    "    print(\"4. Divide\")\n"
   ]
  },
  {
   "cell_type": "markdown",
   "id": "5911db2b",
   "metadata": {},
   "source": [
    "Take user input and call the right function"
   ]
  },
  {
   "cell_type": "code",
   "execution_count": 8,
   "id": "1783e168",
   "metadata": {},
   "outputs": [],
   "source": [
    "def calculator():\n",
    "    while True:\n",
    "        show_menu()\n",
    "        choice = input(\"Enter choice (1/2/3/4 or 'q' to quit): \")\n",
    "\n",
    "        if choice == 'q':\n",
    "            print(\"Calculator closed. Goodbye!\")\n",
    "            break\n",
    "\n",
    "        num1 = float(input(\"Enter first number: \"))\n",
    "        num2 = float(input(\"Enter second number: \"))\n",
    "\n",
    "        if choice == '1':\n",
    "            print(\"Result:\", add(num1, num2))\n",
    "        elif choice == '2':\n",
    "            print(\"Result:\", subtract(num1, num2))\n",
    "        elif choice == '3':\n",
    "            print(\"Result:\", multiply(num1, num2))\n",
    "        elif choice == '4':\n",
    "            print(\"Result:\", divide(num1, num2))\n",
    "        else:\n",
    "            print(\"Invalid Input!\")\n",
    "\n",
    "        print(\"-\" * 30)\n"
   ]
  },
  {
   "cell_type": "markdown",
   "id": "8ab776a0",
   "metadata": {},
   "source": [
    "RUN"
   ]
  },
  {
   "cell_type": "code",
   "execution_count": 9,
   "id": "cd9db771",
   "metadata": {},
   "outputs": [
    {
     "name": "stdout",
     "output_type": "stream",
     "text": [
      "Select Operation:\n",
      "1. Add\n",
      "2. Subtract\n",
      "3. Multiply\n",
      "4. Divide\n",
      "Result: 234.0\n",
      "------------------------------\n",
      "Select Operation:\n",
      "1. Add\n",
      "2. Subtract\n",
      "3. Multiply\n",
      "4. Divide\n",
      "Result: 1222.0\n",
      "------------------------------\n",
      "Select Operation:\n",
      "1. Add\n",
      "2. Subtract\n",
      "3. Multiply\n",
      "4. Divide\n"
     ]
    },
    {
     "ename": "ValueError",
     "evalue": "could not convert string to float: ''",
     "output_type": "error",
     "traceback": [
      "\u001b[31m---------------------------------------------------------------------------\u001b[39m",
      "\u001b[31mValueError\u001b[39m                                Traceback (most recent call last)",
      "\u001b[36mCell\u001b[39m\u001b[36m \u001b[39m\u001b[32mIn[9]\u001b[39m\u001b[32m, line 1\u001b[39m\n\u001b[32m----> \u001b[39m\u001b[32m1\u001b[39m \u001b[43mcalculator\u001b[49m\u001b[43m(\u001b[49m\u001b[43m)\u001b[49m\n",
      "\u001b[36mCell\u001b[39m\u001b[36m \u001b[39m\u001b[32mIn[8]\u001b[39m\u001b[32m, line 10\u001b[39m, in \u001b[36mcalculator\u001b[39m\u001b[34m()\u001b[39m\n\u001b[32m      7\u001b[39m     \u001b[38;5;28mprint\u001b[39m(\u001b[33m\"\u001b[39m\u001b[33mCalculator closed. Goodbye!\u001b[39m\u001b[33m\"\u001b[39m)\n\u001b[32m      8\u001b[39m     \u001b[38;5;28;01mbreak\u001b[39;00m\n\u001b[32m---> \u001b[39m\u001b[32m10\u001b[39m num1 = \u001b[38;5;28;43mfloat\u001b[39;49m\u001b[43m(\u001b[49m\u001b[38;5;28;43minput\u001b[39;49m\u001b[43m(\u001b[49m\u001b[33;43m\"\u001b[39;49m\u001b[33;43mEnter first number: \u001b[39;49m\u001b[33;43m\"\u001b[39;49m\u001b[43m)\u001b[49m\u001b[43m)\u001b[49m\n\u001b[32m     11\u001b[39m num2 = \u001b[38;5;28mfloat\u001b[39m(\u001b[38;5;28minput\u001b[39m(\u001b[33m\"\u001b[39m\u001b[33mEnter second number: \u001b[39m\u001b[33m\"\u001b[39m))\n\u001b[32m     13\u001b[39m \u001b[38;5;28;01mif\u001b[39;00m choice == \u001b[33m'\u001b[39m\u001b[33m1\u001b[39m\u001b[33m'\u001b[39m:\n",
      "\u001b[31mValueError\u001b[39m: could not convert string to float: ''"
     ]
    }
   ],
   "source": [
    "calculator()\n"
   ]
  }
 ],
 "metadata": {
  "kernelspec": {
   "display_name": "Python 3",
   "language": "python",
   "name": "python3"
  },
  "language_info": {
   "codemirror_mode": {
    "name": "ipython",
    "version": 3
   },
   "file_extension": ".py",
   "mimetype": "text/x-python",
   "name": "python",
   "nbconvert_exporter": "python",
   "pygments_lexer": "ipython3",
   "version": "3.13.7"
  }
 },
 "nbformat": 4,
 "nbformat_minor": 5
}
