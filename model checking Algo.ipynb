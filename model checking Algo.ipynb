{
 "cells": [
  {
   "cell_type": "markdown",
   "id": "5987cc75",
   "metadata": {},
   "source": [
    "## Model Checking Algo "
   ]
  },
  {
   "cell_type": "code",
   "execution_count": 4,
   "id": "06743980",
   "metadata": {},
   "outputs": [],
   "source": [
    "import itertools\n",
    "\n",
    "class Symbol:\n",
    "    def __init__(self, name):\n",
    "        self.name = name\n",
    "\n",
    "    def __repr__(self):\n",
    "        return self.name\n",
    "\n",
    "class Not:\n",
    "    def __init__(self, operand):\n",
    "        self.operand = operand\n",
    "\n",
    "    def evaluate(self, model):\n",
    "        return not evaluate(self.operand, model)\n",
    "\n",
    "    def __repr__(self):\n",
    "        return f\"¬{self.operand}\"\n",
    "\n",
    "class And:\n",
    "    def __init__(self, *conjuncts):\n",
    "        self.conjuncts = conjuncts\n",
    "\n",
    "    def evaluate(self, model):\n",
    "        return all(evaluate(c, model) for c in self.conjuncts)\n",
    "\n",
    "    def __repr__(self):\n",
    "        return \"(\" + \" ∧ \".join(map(str, self.conjuncts)) + \")\"\n",
    "\n",
    "class Or:\n",
    "    def __init__(self, *disjuncts):\n",
    "        self.disjuncts = disjuncts\n",
    "\n",
    "    def evaluate(self, model):\n",
    "        return any(evaluate(d, model) for d in self.disjuncts)\n",
    "\n",
    "    def __repr__(self):\n",
    "        return \"(\" + \" ∨ \".join(map(str, self.disjuncts)) + \")\"\n",
    "\n",
    "class Implication:\n",
    "    def __init__(self, antecedent, consequent):\n",
    "        self.antecedent = antecedent\n",
    "        self.consequent = consequent\n",
    "\n",
    "    def evaluate(self, model):\n",
    "        return (not evaluate(self.antecedent, model)) or evaluate(self.consequent, model)\n",
    "\n",
    "    def __repr__(self):\n",
    "        return f\"({self.antecedent} → {self.consequent})\"\n",
    "\n",
    "def evaluate(expr, model):\n",
    "    if isinstance(expr, Symbol):\n",
    "        return model.get(expr.name, False)\n",
    "    return expr.evaluate(model)\n",
    "\n",
    "def symbols(expr):\n",
    "    if isinstance(expr, Symbol):\n",
    "        return {expr}\n",
    "    if isinstance(expr, (Not, And, Or, Implication)):\n",
    "        result = set()\n",
    "        for sub in expr.__dict__.values():\n",
    "            if isinstance(sub, tuple):\n",
    "                for s in sub:\n",
    "                    result |= symbols(s)\n",
    "            elif isinstance(sub, (Symbol, Not, And, Or, Implication)):\n",
    "                result |= symbols(sub)\n",
    "        return result\n",
    "    return set()\n",
    "\n",
    "def model_check(knowledge, query):\n",
    "    syms = list(symbols(And(knowledge, query)))\n",
    "    for values in itertools.product([True, False], repeat=len(syms)):\n",
    "        model = dict(zip([s.name for s in syms], values))\n",
    "        if knowledge.evaluate(model):\n",
    "            if not query.evaluate(model):\n",
    "                return False\n",
    "    return True\n"
   ]
  },
  {
   "cell_type": "code",
   "execution_count": 6,
   "id": "f9b90113",
   "metadata": {},
   "outputs": [
    {
     "ename": "ModuleNotFoundError",
     "evalue": "No module named 'logic'",
     "output_type": "error",
     "traceback": [
      "\u001b[31m---------------------------------------------------------------------------\u001b[39m",
      "\u001b[31mModuleNotFoundError\u001b[39m                       Traceback (most recent call last)",
      "\u001b[36mCell\u001b[39m\u001b[36m \u001b[39m\u001b[32mIn[6]\u001b[39m\u001b[32m, line 1\u001b[39m\n\u001b[32m----> \u001b[39m\u001b[32m1\u001b[39m \u001b[38;5;28;01mfrom\u001b[39;00m\u001b[38;5;250m \u001b[39m\u001b[34;01mlogic\u001b[39;00m\u001b[38;5;250m \u001b[39m\u001b[38;5;28;01mimport\u001b[39;00m *\n\u001b[32m      3\u001b[39m rain = Symbol(\u001b[33m\"\u001b[39m\u001b[33mrain\u001b[39m\u001b[33m\"\u001b[39m)\n\u001b[32m      4\u001b[39m hagrid = Symbol(\u001b[33m\"\u001b[39m\u001b[33mhagrid\u001b[39m\u001b[33m\"\u001b[39m)\n",
      "\u001b[31mModuleNotFoundError\u001b[39m: No module named 'logic'"
     ]
    }
   ],
   "source": [
    "from logic import *\n",
    "\n",
    "rain = Symbol(\"rain\")\n",
    "hagrid = Symbol(\"hagrid\")\n",
    "dumbledore = Symbol(\"dumbledore\")\n",
    "\n",
    "knowledge = And(\n",
    "    Implication(Not(rain), hagrid),\n",
    "    Or(hagrid, dumbledore),\n",
    "    Not(And(hagrid, dumbledore)),\n",
    "    dumbledore\n",
    ")\n",
    "\n",
    "print(\"Does KB entail rain?\")\n",
    "print(model_check(knowledge, rain))\n"
   ]
  }
 ],
 "metadata": {
  "kernelspec": {
   "display_name": "Python 3",
   "language": "python",
   "name": "python3"
  },
  "language_info": {
   "codemirror_mode": {
    "name": "ipython",
    "version": 3
   },
   "file_extension": ".py",
   "mimetype": "text/x-python",
   "name": "python",
   "nbconvert_exporter": "python",
   "pygments_lexer": "ipython3",
   "version": "3.13.9"
  }
 },
 "nbformat": 4,
 "nbformat_minor": 5
}
